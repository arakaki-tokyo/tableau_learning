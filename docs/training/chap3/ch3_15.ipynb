{
 "cells": [
  {
   "cell_type": "markdown",
   "id": "d4d98fed-dd7f-4b89-bf0b-4a1bd86d6243",
   "metadata": {},
   "source": [
    "# chapter 3.15\n",
    "\n",
    "「都内で発生した2つの地震の震源地間の間の距離は何kmですか？」という問題。  \n",
    "Tableauのマップ上で円形選択ツールによってざっくりと11kmです、という回答例が示されている。\n",
    "\n",
    "## 検証結果\n",
    "Tableauがパワフルなデータ集計・可視化ツールであることに疑問の余地はないが、今回のようにピンポイントで値を求めるというユースケースには不向きである。  \n",
    "\n",
    "実際、検証を行うと以下の点が明らかになった。\n",
    "\n",
    "- 東京都内で発生した地震は7つある\n",
    "- Tableau上で確認した距離は正確ではない"
   ]
  },
  {
   "cell_type": "markdown",
   "id": "f695465e-2630-465d-bff1-07fd9fc5e41b",
   "metadata": {},
   "source": [
    "## データ準備"
   ]
  },
  {
   "cell_type": "code",
   "execution_count": 129,
   "id": "d71c20e9-ff36-41c4-92df-05fb6fde0f26",
   "metadata": {},
   "outputs": [],
   "source": [
    "import numpy as np\n",
    "import pandas as pd\n",
    "import matplotlib as mpl\n",
    "import matplotlib.pyplot as plt\n",
    "import geopandas as gpd"
   ]
  },
  {
   "cell_type": "code",
   "execution_count": 2,
   "id": "da41082f-9620-4056-a7cb-bb0edbf74435",
   "metadata": {},
   "outputs": [],
   "source": [
    "from shapely.geometry import Point, LineString"
   ]
  },
  {
   "cell_type": "markdown",
   "id": "60e76a45-648f-403a-a1a8-ce2d12dc9e64",
   "metadata": {},
   "source": [
    "津波データの読み込み"
   ]
  },
  {
   "cell_type": "code",
   "execution_count": 3,
   "id": "62f8edad-7268-4c9e-bf0c-1296c89484a1",
   "metadata": {},
   "outputs": [],
   "source": [
    "df = pd.read_csv(\"3.15_sources.csv\")"
   ]
  },
  {
   "cell_type": "markdown",
   "id": "4b779d3f-ff0a-4cf3-a582-aec15dbfc6da",
   "metadata": {},
   "source": [
    "アクセスしやすいように列名のdictを作成"
   ]
  },
  {
   "cell_type": "code",
   "execution_count": 4,
   "id": "21004e3f-c739-4b85-af7b-8a0dcfaef60d",
   "metadata": {},
   "outputs": [],
   "source": [
    "class dotdict(dict): \n",
    "    def __init__(self, *args, **kwargs): \n",
    "        super().__init__(*args, **kwargs) \n",
    "        self.__dict__ = self \n",
    "\n",
    "cols = dotdict({k:k for k in df.columns})"
   ]
  },
  {
   "cell_type": "markdown",
   "id": "6f6bda5b-dcc7-4aea-a7e8-6d0c32cdf6a6",
   "metadata": {},
   "source": [
    "dfの列を絞り込む"
   ]
  },
  {
   "cell_type": "code",
   "execution_count": 5,
   "id": "4de1412c-899b-4237-969c-ef9e8b1a5d17",
   "metadata": {},
   "outputs": [],
   "source": [
    "df = df[[cols.SOURCE_ID, cols.LONGITUDE, cols.LATITUDE]]"
   ]
  },
  {
   "cell_type": "markdown",
   "id": "cc86f6da-cf5a-4223-a0cc-fa2bf744ff98",
   "metadata": {},
   "source": [
    "GeoDataFrameに変換"
   ]
  },
  {
   "cell_type": "code",
   "execution_count": 6,
   "id": "318e87da-9b35-464d-9919-a80d24bc61a9",
   "metadata": {},
   "outputs": [],
   "source": [
    "gdf = gpd.GeoDataFrame(pd.concat(\n",
    "    [df.SOURCE_ID, df.apply(lambda r: Point(r[cols.LONGITUDE], r[cols.LATITUDE]), axis=1).rename(\"geometry\")], axis=1))"
   ]
  },
  {
   "cell_type": "code",
   "execution_count": 7,
   "id": "21ddfba0-63d3-4373-966a-d09df19bf46c",
   "metadata": {},
   "outputs": [
    {
     "data": {
      "text/html": [
       "<div>\n",
       "<style scoped>\n",
       "    .dataframe tbody tr th:only-of-type {\n",
       "        vertical-align: middle;\n",
       "    }\n",
       "\n",
       "    .dataframe tbody tr th {\n",
       "        vertical-align: top;\n",
       "    }\n",
       "\n",
       "    .dataframe thead th {\n",
       "        text-align: right;\n",
       "    }\n",
       "</style>\n",
       "<table border=\"1\" class=\"dataframe\">\n",
       "  <thead>\n",
       "    <tr style=\"text-align: right;\">\n",
       "      <th></th>\n",
       "      <th>SOURCE_ID</th>\n",
       "      <th>geometry</th>\n",
       "    </tr>\n",
       "  </thead>\n",
       "  <tbody>\n",
       "    <tr>\n",
       "      <th>0</th>\n",
       "      <td>1</td>\n",
       "      <td>POINT (35.80000 35.68300)</td>\n",
       "    </tr>\n",
       "    <tr>\n",
       "      <th>1</th>\n",
       "      <td>3</td>\n",
       "      <td>POINT (25.40000 36.40000)</td>\n",
       "    </tr>\n",
       "    <tr>\n",
       "      <th>2</th>\n",
       "      <td>4</td>\n",
       "      <td>POINT (35.80000 35.68300)</td>\n",
       "    </tr>\n",
       "    <tr>\n",
       "      <th>3</th>\n",
       "      <td>5</td>\n",
       "      <td>POINT (26.24000 39.96000)</td>\n",
       "    </tr>\n",
       "    <tr>\n",
       "      <th>4</th>\n",
       "      <td>6</td>\n",
       "      <td>POINT (nan nan)</td>\n",
       "    </tr>\n",
       "    <tr>\n",
       "      <th>...</th>\n",
       "      <td>...</td>\n",
       "      <td>...</td>\n",
       "    </tr>\n",
       "    <tr>\n",
       "      <th>2577</th>\n",
       "      <td>5632</td>\n",
       "      <td>POINT (161.10700 -10.73000)</td>\n",
       "    </tr>\n",
       "    <tr>\n",
       "      <th>2578</th>\n",
       "      <td>5636</td>\n",
       "      <td>POINT (153.45000 -4.50900)</td>\n",
       "    </tr>\n",
       "    <tr>\n",
       "      <th>2579</th>\n",
       "      <td>5637</td>\n",
       "      <td>POINT (-73.88000 -43.41600)</td>\n",
       "    </tr>\n",
       "    <tr>\n",
       "      <th>2580</th>\n",
       "      <td>5639</td>\n",
       "      <td>POINT (176.05300 -19.32600)</td>\n",
       "    </tr>\n",
       "    <tr>\n",
       "      <th>2581</th>\n",
       "      <td>5642</td>\n",
       "      <td>POINT (55.12200 -6.21400)</td>\n",
       "    </tr>\n",
       "  </tbody>\n",
       "</table>\n",
       "<p>2582 rows × 2 columns</p>\n",
       "</div>"
      ],
      "text/plain": [
       "      SOURCE_ID                     geometry\n",
       "0             1    POINT (35.80000 35.68300)\n",
       "1             3    POINT (25.40000 36.40000)\n",
       "2             4    POINT (35.80000 35.68300)\n",
       "3             5    POINT (26.24000 39.96000)\n",
       "4             6              POINT (nan nan)\n",
       "...         ...                          ...\n",
       "2577       5632  POINT (161.10700 -10.73000)\n",
       "2578       5636   POINT (153.45000 -4.50900)\n",
       "2579       5637  POINT (-73.88000 -43.41600)\n",
       "2580       5639  POINT (176.05300 -19.32600)\n",
       "2581       5642    POINT (55.12200 -6.21400)\n",
       "\n",
       "[2582 rows x 2 columns]"
      ]
     },
     "execution_count": 7,
     "metadata": {},
     "output_type": "execute_result"
    }
   ],
   "source": [
    "gdf"
   ]
  },
  {
   "cell_type": "code",
   "execution_count": 8,
   "id": "672d6064-1c71-4d71-8e57-f4c46f90b6cd",
   "metadata": {},
   "outputs": [],
   "source": [
    "import plotly.express as px"
   ]
  },
  {
   "cell_type": "code",
   "execution_count": 67,
   "id": "62262156-0150-4588-8059-104cde77edd0",
   "metadata": {},
   "outputs": [],
   "source": [
    "import plotly.graph_objects as go"
   ]
  },
  {
   "cell_type": "markdown",
   "id": "2331c2fb-49c0-40e8-a3d1-afbc5839d26c",
   "metadata": {},
   "source": [
    "東京都のポリゴン取得([市区町村のポリゴン作成](https://github.com/arakaki-tokyo/tableau_learning/blob/main/data/%E5%B8%82%E5%8C%BA%E7%94%BA%E6%9D%91%E3%81%AE%E3%83%9D%E3%83%AA%E3%82%B4%E3%83%B3%E4%BD%9C%E6%88%90.ipynb)で使用したデータ)"
   ]
  },
  {
   "cell_type": "code",
   "execution_count": 17,
   "id": "02d4651a-c784-4194-b35e-1f4e7d52f54a",
   "metadata": {},
   "outputs": [],
   "source": [
    "tokyo = gpd.read_file(\"13.zip\").at[0, \"geometry\"]"
   ]
  },
  {
   "cell_type": "markdown",
   "id": "24fbfeae-faf6-4983-88cb-3ad65892a011",
   "metadata": {},
   "source": [
    "震源地の座標が東京都のポリゴンに含まれる行だけ抽出"
   ]
  },
  {
   "cell_type": "code",
   "execution_count": 18,
   "id": "b5d6a64f-b071-48ed-a816-e0ef1e5eea7f",
   "metadata": {},
   "outputs": [],
   "source": [
    "intokyo = gdf[gdf.within(tokyo)].reset_index(drop=True)"
   ]
  },
  {
   "cell_type": "code",
   "execution_count": 20,
   "id": "d0d337f7-4672-436a-abfa-9cd23a726831",
   "metadata": {},
   "outputs": [
    {
     "data": {
      "text/html": [
       "<div>\n",
       "<style scoped>\n",
       "    .dataframe tbody tr th:only-of-type {\n",
       "        vertical-align: middle;\n",
       "    }\n",
       "\n",
       "    .dataframe tbody tr th {\n",
       "        vertical-align: top;\n",
       "    }\n",
       "\n",
       "    .dataframe thead th {\n",
       "        text-align: right;\n",
       "    }\n",
       "</style>\n",
       "<table border=\"1\" class=\"dataframe\">\n",
       "  <thead>\n",
       "    <tr style=\"text-align: right;\">\n",
       "      <th></th>\n",
       "      <th>SOURCE_ID</th>\n",
       "      <th>geometry</th>\n",
       "    </tr>\n",
       "  </thead>\n",
       "  <tbody>\n",
       "    <tr>\n",
       "      <th>0</th>\n",
       "      <td>5502</td>\n",
       "      <td>POINT (139.40000 34.73000)</td>\n",
       "    </tr>\n",
       "    <tr>\n",
       "      <th>1</th>\n",
       "      <td>427</td>\n",
       "      <td>POINT (139.80000 33.10000)</td>\n",
       "    </tr>\n",
       "    <tr>\n",
       "      <th>2</th>\n",
       "      <td>5445</td>\n",
       "      <td>POINT (142.21000 27.07000)</td>\n",
       "    </tr>\n",
       "    <tr>\n",
       "      <th>3</th>\n",
       "      <td>851</td>\n",
       "      <td>POINT (139.80000 35.65000)</td>\n",
       "    </tr>\n",
       "    <tr>\n",
       "      <th>4</th>\n",
       "      <td>5503</td>\n",
       "      <td>POINT (139.70000 35.60000)</td>\n",
       "    </tr>\n",
       "    <tr>\n",
       "      <th>5</th>\n",
       "      <td>5415</td>\n",
       "      <td>POINT (142.21000 27.07000)</td>\n",
       "    </tr>\n",
       "    <tr>\n",
       "      <th>6</th>\n",
       "      <td>2340</td>\n",
       "      <td>POINT (139.13100 34.22100)</td>\n",
       "    </tr>\n",
       "  </tbody>\n",
       "</table>\n",
       "</div>"
      ],
      "text/plain": [
       "   SOURCE_ID                    geometry\n",
       "0       5502  POINT (139.40000 34.73000)\n",
       "1        427  POINT (139.80000 33.10000)\n",
       "2       5445  POINT (142.21000 27.07000)\n",
       "3        851  POINT (139.80000 35.65000)\n",
       "4       5503  POINT (139.70000 35.60000)\n",
       "5       5415  POINT (142.21000 27.07000)\n",
       "6       2340  POINT (139.13100 34.22100)"
      ]
     },
     "execution_count": 20,
     "metadata": {},
     "output_type": "execute_result"
    }
   ],
   "source": [
    "intokyo"
   ]
  },
  {
   "cell_type": "markdown",
   "id": "29a23dd4-b7e4-4241-a7c8-4d30afe4b110",
   "metadata": {},
   "source": [
    "描画して確認"
   ]
  },
  {
   "cell_type": "code",
   "execution_count": 174,
   "id": "7d0362ad-6624-4e05-aaae-34ca3d934d67",
   "metadata": {},
   "outputs": [],
   "source": [
    "def plot_sources(gdf, center=None, zoom=7.5):\n",
    "\n",
    "    fig = px.scatter_mapbox(gdf,\n",
    "                            lat=gdf.geometry.y,\n",
    "                            lon=gdf.geometry.x,\n",
    "                            hover_name=gdf.SOURCE_ID,\n",
    "                            color=gdf.SOURCE_ID.astype(str),\n",
    "                            mapbox_style=\"carto-darkmatter\",\n",
    "                            center=center,\n",
    "                            zoom=zoom, width=800, height=600)\n",
    "\n",
    "    fig.show()"
   ]
  },
  {
   "cell_type": "code",
   "execution_count": 173,
   "id": "3f48af16-dd8d-4ed1-af46-12819ff0ba85",
   "metadata": {},
   "outputs": [],
   "source": [
    "[(x, y)] = tokyo.centroid.coords\n",
    "center = dict(lon=x, lat=y)"
   ]
  },
  {
   "cell_type": "code",
   "execution_count": 175,
   "id": "ab4fa4db-47c2-468e-ac01-506bacca3255",
   "metadata": {},
   "outputs": [
    {
     "data": {
      "application/vnd.plotly.v1+json": {
       "config": {
        "plotlyServerURL": "https://plot.ly"
       },
       "data": [
        {
         "hovertemplate": "<b>%{hovertext}</b><br><br>color=5502<br>lat=%{lat}<br>lon=%{lon}<extra></extra>",
         "hovertext": [
          5502
         ],
         "lat": [
          34.73
         ],
         "legendgroup": "5502",
         "lon": [
          139.4
         ],
         "marker": {
          "color": "#636efa"
         },
         "mode": "markers",
         "name": "5502",
         "showlegend": true,
         "subplot": "mapbox",
         "type": "scattermapbox"
        },
        {
         "hovertemplate": "<b>%{hovertext}</b><br><br>color=427<br>lat=%{lat}<br>lon=%{lon}<extra></extra>",
         "hovertext": [
          427
         ],
         "lat": [
          33.1
         ],
         "legendgroup": "427",
         "lon": [
          139.8
         ],
         "marker": {
          "color": "#EF553B"
         },
         "mode": "markers",
         "name": "427",
         "showlegend": true,
         "subplot": "mapbox",
         "type": "scattermapbox"
        },
        {
         "hovertemplate": "<b>%{hovertext}</b><br><br>color=5445<br>lat=%{lat}<br>lon=%{lon}<extra></extra>",
         "hovertext": [
          5445
         ],
         "lat": [
          27.07
         ],
         "legendgroup": "5445",
         "lon": [
          142.21
         ],
         "marker": {
          "color": "#00cc96"
         },
         "mode": "markers",
         "name": "5445",
         "showlegend": true,
         "subplot": "mapbox",
         "type": "scattermapbox"
        },
        {
         "hovertemplate": "<b>%{hovertext}</b><br><br>color=851<br>lat=%{lat}<br>lon=%{lon}<extra></extra>",
         "hovertext": [
          851
         ],
         "lat": [
          35.65
         ],
         "legendgroup": "851",
         "lon": [
          139.8
         ],
         "marker": {
          "color": "#ab63fa"
         },
         "mode": "markers",
         "name": "851",
         "showlegend": true,
         "subplot": "mapbox",
         "type": "scattermapbox"
        },
        {
         "hovertemplate": "<b>%{hovertext}</b><br><br>color=5503<br>lat=%{lat}<br>lon=%{lon}<extra></extra>",
         "hovertext": [
          5503
         ],
         "lat": [
          35.6
         ],
         "legendgroup": "5503",
         "lon": [
          139.7
         ],
         "marker": {
          "color": "#FFA15A"
         },
         "mode": "markers",
         "name": "5503",
         "showlegend": true,
         "subplot": "mapbox",
         "type": "scattermapbox"
        },
        {
         "hovertemplate": "<b>%{hovertext}</b><br><br>color=5415<br>lat=%{lat}<br>lon=%{lon}<extra></extra>",
         "hovertext": [
          5415
         ],
         "lat": [
          27.07
         ],
         "legendgroup": "5415",
         "lon": [
          142.21
         ],
         "marker": {
          "color": "#19d3f3"
         },
         "mode": "markers",
         "name": "5415",
         "showlegend": true,
         "subplot": "mapbox",
         "type": "scattermapbox"
        },
        {
         "hovertemplate": "<b>%{hovertext}</b><br><br>color=2340<br>lat=%{lat}<br>lon=%{lon}<extra></extra>",
         "hovertext": [
          2340
         ],
         "lat": [
          34.221
         ],
         "legendgroup": "2340",
         "lon": [
          139.131
         ],
         "marker": {
          "color": "#FF6692"
         },
         "mode": "markers",
         "name": "2340",
         "showlegend": true,
         "subplot": "mapbox",
         "type": "scattermapbox"
        }
       ],
       "layout": {
        "height": 600,
        "legend": {
         "title": {
          "text": "color"
         },
         "tracegroupgap": 0
        },
        "mapbox": {
         "bearing": 0,
         "center": {
          "lat": 35.30858129633587,
          "lon": 140.08463471067068
         },
         "domain": {
          "x": [
           0,
           1
          ],
          "y": [
           0,
           1
          ]
         },
         "pitch": 0,
         "style": "carto-darkmatter",
         "zoom": 3.95423656420446
        },
        "margin": {
         "t": 60
        },
        "template": {
         "data": {
          "bar": [
           {
            "error_x": {
             "color": "#2a3f5f"
            },
            "error_y": {
             "color": "#2a3f5f"
            },
            "marker": {
             "line": {
              "color": "#E5ECF6",
              "width": 0.5
             },
             "pattern": {
              "fillmode": "overlay",
              "size": 10,
              "solidity": 0.2
             }
            },
            "type": "bar"
           }
          ],
          "barpolar": [
           {
            "marker": {
             "line": {
              "color": "#E5ECF6",
              "width": 0.5
             },
             "pattern": {
              "fillmode": "overlay",
              "size": 10,
              "solidity": 0.2
             }
            },
            "type": "barpolar"
           }
          ],
          "carpet": [
           {
            "aaxis": {
             "endlinecolor": "#2a3f5f",
             "gridcolor": "white",
             "linecolor": "white",
             "minorgridcolor": "white",
             "startlinecolor": "#2a3f5f"
            },
            "baxis": {
             "endlinecolor": "#2a3f5f",
             "gridcolor": "white",
             "linecolor": "white",
             "minorgridcolor": "white",
             "startlinecolor": "#2a3f5f"
            },
            "type": "carpet"
           }
          ],
          "choropleth": [
           {
            "colorbar": {
             "outlinewidth": 0,
             "ticks": ""
            },
            "type": "choropleth"
           }
          ],
          "contour": [
           {
            "colorbar": {
             "outlinewidth": 0,
             "ticks": ""
            },
            "colorscale": [
             [
              0,
              "#0d0887"
             ],
             [
              0.1111111111111111,
              "#46039f"
             ],
             [
              0.2222222222222222,
              "#7201a8"
             ],
             [
              0.3333333333333333,
              "#9c179e"
             ],
             [
              0.4444444444444444,
              "#bd3786"
             ],
             [
              0.5555555555555556,
              "#d8576b"
             ],
             [
              0.6666666666666666,
              "#ed7953"
             ],
             [
              0.7777777777777778,
              "#fb9f3a"
             ],
             [
              0.8888888888888888,
              "#fdca26"
             ],
             [
              1,
              "#f0f921"
             ]
            ],
            "type": "contour"
           }
          ],
          "contourcarpet": [
           {
            "colorbar": {
             "outlinewidth": 0,
             "ticks": ""
            },
            "type": "contourcarpet"
           }
          ],
          "heatmap": [
           {
            "colorbar": {
             "outlinewidth": 0,
             "ticks": ""
            },
            "colorscale": [
             [
              0,
              "#0d0887"
             ],
             [
              0.1111111111111111,
              "#46039f"
             ],
             [
              0.2222222222222222,
              "#7201a8"
             ],
             [
              0.3333333333333333,
              "#9c179e"
             ],
             [
              0.4444444444444444,
              "#bd3786"
             ],
             [
              0.5555555555555556,
              "#d8576b"
             ],
             [
              0.6666666666666666,
              "#ed7953"
             ],
             [
              0.7777777777777778,
              "#fb9f3a"
             ],
             [
              0.8888888888888888,
              "#fdca26"
             ],
             [
              1,
              "#f0f921"
             ]
            ],
            "type": "heatmap"
           }
          ],
          "heatmapgl": [
           {
            "colorbar": {
             "outlinewidth": 0,
             "ticks": ""
            },
            "colorscale": [
             [
              0,
              "#0d0887"
             ],
             [
              0.1111111111111111,
              "#46039f"
             ],
             [
              0.2222222222222222,
              "#7201a8"
             ],
             [
              0.3333333333333333,
              "#9c179e"
             ],
             [
              0.4444444444444444,
              "#bd3786"
             ],
             [
              0.5555555555555556,
              "#d8576b"
             ],
             [
              0.6666666666666666,
              "#ed7953"
             ],
             [
              0.7777777777777778,
              "#fb9f3a"
             ],
             [
              0.8888888888888888,
              "#fdca26"
             ],
             [
              1,
              "#f0f921"
             ]
            ],
            "type": "heatmapgl"
           }
          ],
          "histogram": [
           {
            "marker": {
             "pattern": {
              "fillmode": "overlay",
              "size": 10,
              "solidity": 0.2
             }
            },
            "type": "histogram"
           }
          ],
          "histogram2d": [
           {
            "colorbar": {
             "outlinewidth": 0,
             "ticks": ""
            },
            "colorscale": [
             [
              0,
              "#0d0887"
             ],
             [
              0.1111111111111111,
              "#46039f"
             ],
             [
              0.2222222222222222,
              "#7201a8"
             ],
             [
              0.3333333333333333,
              "#9c179e"
             ],
             [
              0.4444444444444444,
              "#bd3786"
             ],
             [
              0.5555555555555556,
              "#d8576b"
             ],
             [
              0.6666666666666666,
              "#ed7953"
             ],
             [
              0.7777777777777778,
              "#fb9f3a"
             ],
             [
              0.8888888888888888,
              "#fdca26"
             ],
             [
              1,
              "#f0f921"
             ]
            ],
            "type": "histogram2d"
           }
          ],
          "histogram2dcontour": [
           {
            "colorbar": {
             "outlinewidth": 0,
             "ticks": ""
            },
            "colorscale": [
             [
              0,
              "#0d0887"
             ],
             [
              0.1111111111111111,
              "#46039f"
             ],
             [
              0.2222222222222222,
              "#7201a8"
             ],
             [
              0.3333333333333333,
              "#9c179e"
             ],
             [
              0.4444444444444444,
              "#bd3786"
             ],
             [
              0.5555555555555556,
              "#d8576b"
             ],
             [
              0.6666666666666666,
              "#ed7953"
             ],
             [
              0.7777777777777778,
              "#fb9f3a"
             ],
             [
              0.8888888888888888,
              "#fdca26"
             ],
             [
              1,
              "#f0f921"
             ]
            ],
            "type": "histogram2dcontour"
           }
          ],
          "mesh3d": [
           {
            "colorbar": {
             "outlinewidth": 0,
             "ticks": ""
            },
            "type": "mesh3d"
           }
          ],
          "parcoords": [
           {
            "line": {
             "colorbar": {
              "outlinewidth": 0,
              "ticks": ""
             }
            },
            "type": "parcoords"
           }
          ],
          "pie": [
           {
            "automargin": true,
            "type": "pie"
           }
          ],
          "scatter": [
           {
            "marker": {
             "colorbar": {
              "outlinewidth": 0,
              "ticks": ""
             }
            },
            "type": "scatter"
           }
          ],
          "scatter3d": [
           {
            "line": {
             "colorbar": {
              "outlinewidth": 0,
              "ticks": ""
             }
            },
            "marker": {
             "colorbar": {
              "outlinewidth": 0,
              "ticks": ""
             }
            },
            "type": "scatter3d"
           }
          ],
          "scattercarpet": [
           {
            "marker": {
             "colorbar": {
              "outlinewidth": 0,
              "ticks": ""
             }
            },
            "type": "scattercarpet"
           }
          ],
          "scattergeo": [
           {
            "marker": {
             "colorbar": {
              "outlinewidth": 0,
              "ticks": ""
             }
            },
            "type": "scattergeo"
           }
          ],
          "scattergl": [
           {
            "marker": {
             "colorbar": {
              "outlinewidth": 0,
              "ticks": ""
             }
            },
            "type": "scattergl"
           }
          ],
          "scattermapbox": [
           {
            "marker": {
             "colorbar": {
              "outlinewidth": 0,
              "ticks": ""
             }
            },
            "type": "scattermapbox"
           }
          ],
          "scatterpolar": [
           {
            "marker": {
             "colorbar": {
              "outlinewidth": 0,
              "ticks": ""
             }
            },
            "type": "scatterpolar"
           }
          ],
          "scatterpolargl": [
           {
            "marker": {
             "colorbar": {
              "outlinewidth": 0,
              "ticks": ""
             }
            },
            "type": "scatterpolargl"
           }
          ],
          "scatterternary": [
           {
            "marker": {
             "colorbar": {
              "outlinewidth": 0,
              "ticks": ""
             }
            },
            "type": "scatterternary"
           }
          ],
          "surface": [
           {
            "colorbar": {
             "outlinewidth": 0,
             "ticks": ""
            },
            "colorscale": [
             [
              0,
              "#0d0887"
             ],
             [
              0.1111111111111111,
              "#46039f"
             ],
             [
              0.2222222222222222,
              "#7201a8"
             ],
             [
              0.3333333333333333,
              "#9c179e"
             ],
             [
              0.4444444444444444,
              "#bd3786"
             ],
             [
              0.5555555555555556,
              "#d8576b"
             ],
             [
              0.6666666666666666,
              "#ed7953"
             ],
             [
              0.7777777777777778,
              "#fb9f3a"
             ],
             [
              0.8888888888888888,
              "#fdca26"
             ],
             [
              1,
              "#f0f921"
             ]
            ],
            "type": "surface"
           }
          ],
          "table": [
           {
            "cells": {
             "fill": {
              "color": "#EBF0F8"
             },
             "line": {
              "color": "white"
             }
            },
            "header": {
             "fill": {
              "color": "#C8D4E3"
             },
             "line": {
              "color": "white"
             }
            },
            "type": "table"
           }
          ]
         },
         "layout": {
          "annotationdefaults": {
           "arrowcolor": "#2a3f5f",
           "arrowhead": 0,
           "arrowwidth": 1
          },
          "autotypenumbers": "strict",
          "coloraxis": {
           "colorbar": {
            "outlinewidth": 0,
            "ticks": ""
           }
          },
          "colorscale": {
           "diverging": [
            [
             0,
             "#8e0152"
            ],
            [
             0.1,
             "#c51b7d"
            ],
            [
             0.2,
             "#de77ae"
            ],
            [
             0.3,
             "#f1b6da"
            ],
            [
             0.4,
             "#fde0ef"
            ],
            [
             0.5,
             "#f7f7f7"
            ],
            [
             0.6,
             "#e6f5d0"
            ],
            [
             0.7,
             "#b8e186"
            ],
            [
             0.8,
             "#7fbc41"
            ],
            [
             0.9,
             "#4d9221"
            ],
            [
             1,
             "#276419"
            ]
           ],
           "sequential": [
            [
             0,
             "#0d0887"
            ],
            [
             0.1111111111111111,
             "#46039f"
            ],
            [
             0.2222222222222222,
             "#7201a8"
            ],
            [
             0.3333333333333333,
             "#9c179e"
            ],
            [
             0.4444444444444444,
             "#bd3786"
            ],
            [
             0.5555555555555556,
             "#d8576b"
            ],
            [
             0.6666666666666666,
             "#ed7953"
            ],
            [
             0.7777777777777778,
             "#fb9f3a"
            ],
            [
             0.8888888888888888,
             "#fdca26"
            ],
            [
             1,
             "#f0f921"
            ]
           ],
           "sequentialminus": [
            [
             0,
             "#0d0887"
            ],
            [
             0.1111111111111111,
             "#46039f"
            ],
            [
             0.2222222222222222,
             "#7201a8"
            ],
            [
             0.3333333333333333,
             "#9c179e"
            ],
            [
             0.4444444444444444,
             "#bd3786"
            ],
            [
             0.5555555555555556,
             "#d8576b"
            ],
            [
             0.6666666666666666,
             "#ed7953"
            ],
            [
             0.7777777777777778,
             "#fb9f3a"
            ],
            [
             0.8888888888888888,
             "#fdca26"
            ],
            [
             1,
             "#f0f921"
            ]
           ]
          },
          "colorway": [
           "#636efa",
           "#EF553B",
           "#00cc96",
           "#ab63fa",
           "#FFA15A",
           "#19d3f3",
           "#FF6692",
           "#B6E880",
           "#FF97FF",
           "#FECB52"
          ],
          "font": {
           "color": "#2a3f5f"
          },
          "geo": {
           "bgcolor": "white",
           "lakecolor": "white",
           "landcolor": "#E5ECF6",
           "showlakes": true,
           "showland": true,
           "subunitcolor": "white"
          },
          "hoverlabel": {
           "align": "left"
          },
          "hovermode": "closest",
          "mapbox": {
           "style": "light"
          },
          "paper_bgcolor": "white",
          "plot_bgcolor": "#E5ECF6",
          "polar": {
           "angularaxis": {
            "gridcolor": "white",
            "linecolor": "white",
            "ticks": ""
           },
           "bgcolor": "#E5ECF6",
           "radialaxis": {
            "gridcolor": "white",
            "linecolor": "white",
            "ticks": ""
           }
          },
          "scene": {
           "xaxis": {
            "backgroundcolor": "#E5ECF6",
            "gridcolor": "white",
            "gridwidth": 2,
            "linecolor": "white",
            "showbackground": true,
            "ticks": "",
            "zerolinecolor": "white"
           },
           "yaxis": {
            "backgroundcolor": "#E5ECF6",
            "gridcolor": "white",
            "gridwidth": 2,
            "linecolor": "white",
            "showbackground": true,
            "ticks": "",
            "zerolinecolor": "white"
           },
           "zaxis": {
            "backgroundcolor": "#E5ECF6",
            "gridcolor": "white",
            "gridwidth": 2,
            "linecolor": "white",
            "showbackground": true,
            "ticks": "",
            "zerolinecolor": "white"
           }
          },
          "shapedefaults": {
           "line": {
            "color": "#2a3f5f"
           }
          },
          "ternary": {
           "aaxis": {
            "gridcolor": "white",
            "linecolor": "white",
            "ticks": ""
           },
           "baxis": {
            "gridcolor": "white",
            "linecolor": "white",
            "ticks": ""
           },
           "bgcolor": "#E5ECF6",
           "caxis": {
            "gridcolor": "white",
            "linecolor": "white",
            "ticks": ""
           }
          },
          "title": {
           "x": 0.05
          },
          "xaxis": {
           "automargin": true,
           "gridcolor": "white",
           "linecolor": "white",
           "ticks": "",
           "title": {
            "standoff": 15
           },
           "zerolinecolor": "white",
           "zerolinewidth": 2
          },
          "yaxis": {
           "automargin": true,
           "gridcolor": "white",
           "linecolor": "white",
           "ticks": "",
           "title": {
            "standoff": 15
           },
           "zerolinecolor": "white",
           "zerolinewidth": 2
          }
         }
        },
        "width": 800
       }
      },
      "image/png": "[encoded data removed]",
      "text/html": [
       "<div>                            <div id=\"7a402c06-ea4c-4ef2-a8e0-5461c1295a21\" class=\"plotly-graph-div\" style=\"height:600px; width:800px;\"></div>            <script type=\"text/javascript\">                require([\"plotly\"], function(Plotly) {                    window.PLOTLYENV=window.PLOTLYENV || {};                                    if (document.getElementById(\"7a402c06-ea4c-4ef2-a8e0-5461c1295a21\")) {                    Plotly.newPlot(                        \"7a402c06-ea4c-4ef2-a8e0-5461c1295a21\",                        [{\"hovertemplate\":\"<b>%{hovertext}</b><br><br>color=5502<br>lat=%{lat}<br>lon=%{lon}<extra></extra>\",\"hovertext\":[5502.0],\"lat\":[34.73],\"legendgroup\":\"5502\",\"lon\":[139.4],\"marker\":{\"color\":\"#636efa\"},\"mode\":\"markers\",\"name\":\"5502\",\"showlegend\":true,\"subplot\":\"mapbox\",\"type\":\"scattermapbox\"},{\"hovertemplate\":\"<b>%{hovertext}</b><br><br>color=427<br>lat=%{lat}<br>lon=%{lon}<extra></extra>\",\"hovertext\":[427.0],\"lat\":[33.1],\"legendgroup\":\"427\",\"lon\":[139.8],\"marker\":{\"color\":\"#EF553B\"},\"mode\":\"markers\",\"name\":\"427\",\"showlegend\":true,\"subplot\":\"mapbox\",\"type\":\"scattermapbox\"},{\"hovertemplate\":\"<b>%{hovertext}</b><br><br>color=5445<br>lat=%{lat}<br>lon=%{lon}<extra></extra>\",\"hovertext\":[5445.0],\"lat\":[27.07],\"legendgroup\":\"5445\",\"lon\":[142.21],\"marker\":{\"color\":\"#00cc96\"},\"mode\":\"markers\",\"name\":\"5445\",\"showlegend\":true,\"subplot\":\"mapbox\",\"type\":\"scattermapbox\"},{\"hovertemplate\":\"<b>%{hovertext}</b><br><br>color=851<br>lat=%{lat}<br>lon=%{lon}<extra></extra>\",\"hovertext\":[851.0],\"lat\":[35.65],\"legendgroup\":\"851\",\"lon\":[139.8],\"marker\":{\"color\":\"#ab63fa\"},\"mode\":\"markers\",\"name\":\"851\",\"showlegend\":true,\"subplot\":\"mapbox\",\"type\":\"scattermapbox\"},{\"hovertemplate\":\"<b>%{hovertext}</b><br><br>color=5503<br>lat=%{lat}<br>lon=%{lon}<extra></extra>\",\"hovertext\":[5503.0],\"lat\":[35.6],\"legendgroup\":\"5503\",\"lon\":[139.7],\"marker\":{\"color\":\"#FFA15A\"},\"mode\":\"markers\",\"name\":\"5503\",\"showlegend\":true,\"subplot\":\"mapbox\",\"type\":\"scattermapbox\"},{\"hovertemplate\":\"<b>%{hovertext}</b><br><br>color=5415<br>lat=%{lat}<br>lon=%{lon}<extra></extra>\",\"hovertext\":[5415.0],\"lat\":[27.07],\"legendgroup\":\"5415\",\"lon\":[142.21],\"marker\":{\"color\":\"#19d3f3\"},\"mode\":\"markers\",\"name\":\"5415\",\"showlegend\":true,\"subplot\":\"mapbox\",\"type\":\"scattermapbox\"},{\"hovertemplate\":\"<b>%{hovertext}</b><br><br>color=2340<br>lat=%{lat}<br>lon=%{lon}<extra></extra>\",\"hovertext\":[2340.0],\"lat\":[34.221],\"legendgroup\":\"2340\",\"lon\":[139.131],\"marker\":{\"color\":\"#FF6692\"},\"mode\":\"markers\",\"name\":\"2340\",\"showlegend\":true,\"subplot\":\"mapbox\",\"type\":\"scattermapbox\"}],                        {\"template\":{\"data\":{\"bar\":[{\"error_x\":{\"color\":\"#2a3f5f\"},\"error_y\":{\"color\":\"#2a3f5f\"},\"marker\":{\"line\":{\"color\":\"#E5ECF6\",\"width\":0.5},\"pattern\":{\"fillmode\":\"overlay\",\"size\":10,\"solidity\":0.2}},\"type\":\"bar\"}],\"barpolar\":[{\"marker\":{\"line\":{\"color\":\"#E5ECF6\",\"width\":0.5},\"pattern\":{\"fillmode\":\"overlay\",\"size\":10,\"solidity\":0.2}},\"type\":\"barpolar\"}],\"carpet\":[{\"aaxis\":{\"endlinecolor\":\"#2a3f5f\",\"gridcolor\":\"white\",\"linecolor\":\"white\",\"minorgridcolor\":\"white\",\"startlinecolor\":\"#2a3f5f\"},\"baxis\":{\"endlinecolor\":\"#2a3f5f\",\"gridcolor\":\"white\",\"linecolor\":\"white\",\"minorgridcolor\":\"white\",\"startlinecolor\":\"#2a3f5f\"},\"type\":\"carpet\"}],\"choropleth\":[{\"colorbar\":{\"outlinewidth\":0,\"ticks\":\"\"},\"type\":\"choropleth\"}],\"contour\":[{\"colorbar\":{\"outlinewidth\":0,\"ticks\":\"\"},\"colorscale\":[[0.0,\"#0d0887\"],[0.1111111111111111,\"#46039f\"],[0.2222222222222222,\"#7201a8\"],[0.3333333333333333,\"#9c179e\"],[0.4444444444444444,\"#bd3786\"],[0.5555555555555556,\"#d8576b\"],[0.6666666666666666,\"#ed7953\"],[0.7777777777777778,\"#fb9f3a\"],[0.8888888888888888,\"#fdca26\"],[1.0,\"#f0f921\"]],\"type\":\"contour\"}],\"contourcarpet\":[{\"colorbar\":{\"outlinewidth\":0,\"ticks\":\"\"},\"type\":\"contourcarpet\"}],\"heatmap\":[{\"colorbar\":{\"outlinewidth\":0,\"ticks\":\"\"},\"colorscale\":[[0.0,\"#0d0887\"],[0.1111111111111111,\"#46039f\"],[0.2222222222222222,\"#7201a8\"],[0.3333333333333333,\"#9c179e\"],[0.4444444444444444,\"#bd3786\"],[0.5555555555555556,\"#d8576b\"],[0.6666666666666666,\"#ed7953\"],[0.7777777777777778,\"#fb9f3a\"],[0.8888888888888888,\"#fdca26\"],[1.0,\"#f0f921\"]],\"type\":\"heatmap\"}],\"heatmapgl\":[{\"colorbar\":{\"outlinewidth\":0,\"ticks\":\"\"},\"colorscale\":[[0.0,\"#0d0887\"],[0.1111111111111111,\"#46039f\"],[0.2222222222222222,\"#7201a8\"],[0.3333333333333333,\"#9c179e\"],[0.4444444444444444,\"#bd3786\"],[0.5555555555555556,\"#d8576b\"],[0.6666666666666666,\"#ed7953\"],[0.7777777777777778,\"#fb9f3a\"],[0.8888888888888888,\"#fdca26\"],[1.0,\"#f0f921\"]],\"type\":\"heatmapgl\"}],\"histogram\":[{\"marker\":{\"pattern\":{\"fillmode\":\"overlay\",\"size\":10,\"solidity\":0.2}},\"type\":\"histogram\"}],\"histogram2d\":[{\"colorbar\":{\"outlinewidth\":0,\"ticks\":\"\"},\"colorscale\":[[0.0,\"#0d0887\"],[0.1111111111111111,\"#46039f\"],[0.2222222222222222,\"#7201a8\"],[0.3333333333333333,\"#9c179e\"],[0.4444444444444444,\"#bd3786\"],[0.5555555555555556,\"#d8576b\"],[0.6666666666666666,\"#ed7953\"],[0.7777777777777778,\"#fb9f3a\"],[0.8888888888888888,\"#fdca26\"],[1.0,\"#f0f921\"]],\"type\":\"histogram2d\"}],\"histogram2dcontour\":[{\"colorbar\":{\"outlinewidth\":0,\"ticks\":\"\"},\"colorscale\":[[0.0,\"#0d0887\"],[0.1111111111111111,\"#46039f\"],[0.2222222222222222,\"#7201a8\"],[0.3333333333333333,\"#9c179e\"],[0.4444444444444444,\"#bd3786\"],[0.5555555555555556,\"#d8576b\"],[0.6666666666666666,\"#ed7953\"],[0.7777777777777778,\"#fb9f3a\"],[0.8888888888888888,\"#fdca26\"],[1.0,\"#f0f921\"]],\"type\":\"histogram2dcontour\"}],\"mesh3d\":[{\"colorbar\":{\"outlinewidth\":0,\"ticks\":\"\"},\"type\":\"mesh3d\"}],\"parcoords\":[{\"line\":{\"colorbar\":{\"outlinewidth\":0,\"ticks\":\"\"}},\"type\":\"parcoords\"}],\"pie\":[{\"automargin\":true,\"type\":\"pie\"}],\"scatter\":[{\"marker\":{\"colorbar\":{\"outlinewidth\":0,\"ticks\":\"\"}},\"type\":\"scatter\"}],\"scatter3d\":[{\"line\":{\"colorbar\":{\"outlinewidth\":0,\"ticks\":\"\"}},\"marker\":{\"colorbar\":{\"outlinewidth\":0,\"ticks\":\"\"}},\"type\":\"scatter3d\"}],\"scattercarpet\":[{\"marker\":{\"colorbar\":{\"outlinewidth\":0,\"ticks\":\"\"}},\"type\":\"scattercarpet\"}],\"scattergeo\":[{\"marker\":{\"colorbar\":{\"outlinewidth\":0,\"ticks\":\"\"}},\"type\":\"scattergeo\"}],\"scattergl\":[{\"marker\":{\"colorbar\":{\"outlinewidth\":0,\"ticks\":\"\"}},\"type\":\"scattergl\"}],\"scattermapbox\":[{\"marker\":{\"colorbar\":{\"outlinewidth\":0,\"ticks\":\"\"}},\"type\":\"scattermapbox\"}],\"scatterpolar\":[{\"marker\":{\"colorbar\":{\"outlinewidth\":0,\"ticks\":\"\"}},\"type\":\"scatterpolar\"}],\"scatterpolargl\":[{\"marker\":{\"colorbar\":{\"outlinewidth\":0,\"ticks\":\"\"}},\"type\":\"scatterpolargl\"}],\"scatterternary\":[{\"marker\":{\"colorbar\":{\"outlinewidth\":0,\"ticks\":\"\"}},\"type\":\"scatterternary\"}],\"surface\":[{\"colorbar\":{\"outlinewidth\":0,\"ticks\":\"\"},\"colorscale\":[[0.0,\"#0d0887\"],[0.1111111111111111,\"#46039f\"],[0.2222222222222222,\"#7201a8\"],[0.3333333333333333,\"#9c179e\"],[0.4444444444444444,\"#bd3786\"],[0.5555555555555556,\"#d8576b\"],[0.6666666666666666,\"#ed7953\"],[0.7777777777777778,\"#fb9f3a\"],[0.8888888888888888,\"#fdca26\"],[1.0,\"#f0f921\"]],\"type\":\"surface\"}],\"table\":[{\"cells\":{\"fill\":{\"color\":\"#EBF0F8\"},\"line\":{\"color\":\"white\"}},\"header\":{\"fill\":{\"color\":\"#C8D4E3\"},\"line\":{\"color\":\"white\"}},\"type\":\"table\"}]},\"layout\":{\"annotationdefaults\":{\"arrowcolor\":\"#2a3f5f\",\"arrowhead\":0,\"arrowwidth\":1},\"autotypenumbers\":\"strict\",\"coloraxis\":{\"colorbar\":{\"outlinewidth\":0,\"ticks\":\"\"}},\"colorscale\":{\"diverging\":[[0,\"#8e0152\"],[0.1,\"#c51b7d\"],[0.2,\"#de77ae\"],[0.3,\"#f1b6da\"],[0.4,\"#fde0ef\"],[0.5,\"#f7f7f7\"],[0.6,\"#e6f5d0\"],[0.7,\"#b8e186\"],[0.8,\"#7fbc41\"],[0.9,\"#4d9221\"],[1,\"#276419\"]],\"sequential\":[[0.0,\"#0d0887\"],[0.1111111111111111,\"#46039f\"],[0.2222222222222222,\"#7201a8\"],[0.3333333333333333,\"#9c179e\"],[0.4444444444444444,\"#bd3786\"],[0.5555555555555556,\"#d8576b\"],[0.6666666666666666,\"#ed7953\"],[0.7777777777777778,\"#fb9f3a\"],[0.8888888888888888,\"#fdca26\"],[1.0,\"#f0f921\"]],\"sequentialminus\":[[0.0,\"#0d0887\"],[0.1111111111111111,\"#46039f\"],[0.2222222222222222,\"#7201a8\"],[0.3333333333333333,\"#9c179e\"],[0.4444444444444444,\"#bd3786\"],[0.5555555555555556,\"#d8576b\"],[0.6666666666666666,\"#ed7953\"],[0.7777777777777778,\"#fb9f3a\"],[0.8888888888888888,\"#fdca26\"],[1.0,\"#f0f921\"]]},\"colorway\":[\"#636efa\",\"#EF553B\",\"#00cc96\",\"#ab63fa\",\"#FFA15A\",\"#19d3f3\",\"#FF6692\",\"#B6E880\",\"#FF97FF\",\"#FECB52\"],\"font\":{\"color\":\"#2a3f5f\"},\"geo\":{\"bgcolor\":\"white\",\"lakecolor\":\"white\",\"landcolor\":\"#E5ECF6\",\"showlakes\":true,\"showland\":true,\"subunitcolor\":\"white\"},\"hoverlabel\":{\"align\":\"left\"},\"hovermode\":\"closest\",\"mapbox\":{\"style\":\"light\"},\"paper_bgcolor\":\"white\",\"plot_bgcolor\":\"#E5ECF6\",\"polar\":{\"angularaxis\":{\"gridcolor\":\"white\",\"linecolor\":\"white\",\"ticks\":\"\"},\"bgcolor\":\"#E5ECF6\",\"radialaxis\":{\"gridcolor\":\"white\",\"linecolor\":\"white\",\"ticks\":\"\"}},\"scene\":{\"xaxis\":{\"backgroundcolor\":\"#E5ECF6\",\"gridcolor\":\"white\",\"gridwidth\":2,\"linecolor\":\"white\",\"showbackground\":true,\"ticks\":\"\",\"zerolinecolor\":\"white\"},\"yaxis\":{\"backgroundcolor\":\"#E5ECF6\",\"gridcolor\":\"white\",\"gridwidth\":2,\"linecolor\":\"white\",\"showbackground\":true,\"ticks\":\"\",\"zerolinecolor\":\"white\"},\"zaxis\":{\"backgroundcolor\":\"#E5ECF6\",\"gridcolor\":\"white\",\"gridwidth\":2,\"linecolor\":\"white\",\"showbackground\":true,\"ticks\":\"\",\"zerolinecolor\":\"white\"}},\"shapedefaults\":{\"line\":{\"color\":\"#2a3f5f\"}},\"ternary\":{\"aaxis\":{\"gridcolor\":\"white\",\"linecolor\":\"white\",\"ticks\":\"\"},\"baxis\":{\"gridcolor\":\"white\",\"linecolor\":\"white\",\"ticks\":\"\"},\"bgcolor\":\"#E5ECF6\",\"caxis\":{\"gridcolor\":\"white\",\"linecolor\":\"white\",\"ticks\":\"\"}},\"title\":{\"x\":0.05},\"xaxis\":{\"automargin\":true,\"gridcolor\":\"white\",\"linecolor\":\"white\",\"ticks\":\"\",\"title\":{\"standoff\":15},\"zerolinecolor\":\"white\",\"zerolinewidth\":2},\"yaxis\":{\"automargin\":true,\"gridcolor\":\"white\",\"linecolor\":\"white\",\"ticks\":\"\",\"title\":{\"standoff\":15},\"zerolinecolor\":\"white\",\"zerolinewidth\":2}}},\"mapbox\":{\"domain\":{\"x\":[0.0,1.0],\"y\":[0.0,1.0]},\"center\":{\"lon\":139.56624608966217,\"lat\":35.06132063022843},\"zoom\":3.5,\"style\":\"carto-darkmatter\"},\"legend\":{\"title\":{\"text\":\"color\"},\"tracegroupgap\":0},\"margin\":{\"t\":60},\"height\":600,\"width\":800},                        {\"responsive\": true}                    ).then(function(){\n",
       "                            \n",
       "var gd = document.getElementById('7a402c06-ea4c-4ef2-a8e0-5461c1295a21');\n",
       "var x = new MutationObserver(function (mutations, observer) {{\n",
       "        var display = window.getComputedStyle(gd).display;\n",
       "        if (!display || display === 'none') {{\n",
       "            console.log([gd, 'removed!']);\n",
       "            Plotly.purge(gd);\n",
       "            observer.disconnect();\n",
       "        }}\n",
       "}});\n",
       "\n",
       "// Listen for the removal of the full notebook cells\n",
       "var notebookContainer = gd.closest('#notebook-container');\n",
       "if (notebookContainer) {{\n",
       "    x.observe(notebookContainer, {childList: true});\n",
       "}}\n",
       "\n",
       "// Listen for the clearing of the current output cell\n",
       "var outputEl = gd.closest('.output');\n",
       "if (outputEl) {{\n",
       "    x.observe(outputEl, {childList: true});\n",
       "}}\n",
       "\n",
       "                        })                };                });            </script>        </div>"
      ]
     },
     "metadata": {},
     "output_type": "display_data"
    }
   ],
   "source": [
    "plot_sources(intokyo, center=center, zoom=3.5)"
   ]
  },
  {
   "cell_type": "markdown",
   "id": "1c872ae8-babb-48f4-8616-52ba2a2e55cf",
   "metadata": {},
   "source": [
    "## ポイント間の距離"
   ]
  },
  {
   "cell_type": "markdown",
   "id": "39e5960e-07ff-481e-9fb8-a78c07f6107b",
   "metadata": {},
   "source": [
    "### geopandasを使う方法"
   ]
  },
  {
   "cell_type": "markdown",
   "id": "21bccc6a-4b99-42ca-8617-4ab38c1f8c51",
   "metadata": {},
   "source": [
    "地理座標系を設定"
   ]
  },
  {
   "cell_type": "code",
   "execution_count": 27,
   "id": "d9cef527-41aa-4941-ac8f-309da6223c91",
   "metadata": {},
   "outputs": [
    {
     "data": {
      "text/html": [
       "<div>\n",
       "<style scoped>\n",
       "    .dataframe tbody tr th:only-of-type {\n",
       "        vertical-align: middle;\n",
       "    }\n",
       "\n",
       "    .dataframe tbody tr th {\n",
       "        vertical-align: top;\n",
       "    }\n",
       "\n",
       "    .dataframe thead th {\n",
       "        text-align: right;\n",
       "    }\n",
       "</style>\n",
       "<table border=\"1\" class=\"dataframe\">\n",
       "  <thead>\n",
       "    <tr style=\"text-align: right;\">\n",
       "      <th></th>\n",
       "      <th>SOURCE_ID</th>\n",
       "      <th>geometry</th>\n",
       "    </tr>\n",
       "  </thead>\n",
       "  <tbody>\n",
       "    <tr>\n",
       "      <th>0</th>\n",
       "      <td>5502</td>\n",
       "      <td>POINT (139.40000 34.73000)</td>\n",
       "    </tr>\n",
       "    <tr>\n",
       "      <th>1</th>\n",
       "      <td>427</td>\n",
       "      <td>POINT (139.80000 33.10000)</td>\n",
       "    </tr>\n",
       "    <tr>\n",
       "      <th>2</th>\n",
       "      <td>5445</td>\n",
       "      <td>POINT (142.21000 27.07000)</td>\n",
       "    </tr>\n",
       "    <tr>\n",
       "      <th>3</th>\n",
       "      <td>851</td>\n",
       "      <td>POINT (139.80000 35.65000)</td>\n",
       "    </tr>\n",
       "    <tr>\n",
       "      <th>4</th>\n",
       "      <td>5503</td>\n",
       "      <td>POINT (139.70000 35.60000)</td>\n",
       "    </tr>\n",
       "    <tr>\n",
       "      <th>5</th>\n",
       "      <td>5415</td>\n",
       "      <td>POINT (142.21000 27.07000)</td>\n",
       "    </tr>\n",
       "    <tr>\n",
       "      <th>6</th>\n",
       "      <td>2340</td>\n",
       "      <td>POINT (139.13100 34.22100)</td>\n",
       "    </tr>\n",
       "  </tbody>\n",
       "</table>\n",
       "</div>"
      ],
      "text/plain": [
       "   SOURCE_ID                    geometry\n",
       "0       5502  POINT (139.40000 34.73000)\n",
       "1        427  POINT (139.80000 33.10000)\n",
       "2       5445  POINT (142.21000 27.07000)\n",
       "3        851  POINT (139.80000 35.65000)\n",
       "4       5503  POINT (139.70000 35.60000)\n",
       "5       5415  POINT (142.21000 27.07000)\n",
       "6       2340  POINT (139.13100 34.22100)"
      ]
     },
     "execution_count": 27,
     "metadata": {},
     "output_type": "execute_result"
    }
   ],
   "source": [
    "intokyo.set_crs(epsg=6668, inplace=True)"
   ]
  },
  {
   "cell_type": "markdown",
   "id": "f2536f12-29dc-43ac-b34f-e7fffdaca974",
   "metadata": {},
   "source": [
    "投影座標系に変換"
   ]
  },
  {
   "cell_type": "code",
   "execution_count": 179,
   "id": "546e44ac-1805-46d9-950f-cc8d8a526b6d",
   "metadata": {},
   "outputs": [],
   "source": [
    "intokyo2 = intokyo.to_crs(epsg=6677)"
   ]
  },
  {
   "cell_type": "code",
   "execution_count": 180,
   "id": "5ba77c16-c0d7-4135-abb8-b75b513d0c4d",
   "metadata": {},
   "outputs": [
    {
     "data": {
      "text/html": [
       "<div>\n",
       "<style scoped>\n",
       "    .dataframe tbody tr th:only-of-type {\n",
       "        vertical-align: middle;\n",
       "    }\n",
       "\n",
       "    .dataframe tbody tr th {\n",
       "        vertical-align: top;\n",
       "    }\n",
       "\n",
       "    .dataframe thead th {\n",
       "        text-align: right;\n",
       "    }\n",
       "</style>\n",
       "<table border=\"1\" class=\"dataframe\">\n",
       "  <thead>\n",
       "    <tr style=\"text-align: right;\">\n",
       "      <th></th>\n",
       "      <th>SOURCE_ID</th>\n",
       "      <th>geometry</th>\n",
       "    </tr>\n",
       "  </thead>\n",
       "  <tbody>\n",
       "    <tr>\n",
       "      <th>0</th>\n",
       "      <td>5502</td>\n",
       "      <td>POINT (-39683.872 -140803.472)</td>\n",
       "    </tr>\n",
       "    <tr>\n",
       "      <th>1</th>\n",
       "      <td>427</td>\n",
       "      <td>POINT (-3111.277 -321671.428)</td>\n",
       "    </tr>\n",
       "    <tr>\n",
       "      <th>2</th>\n",
       "      <td>5445</td>\n",
       "      <td>POINT (235765.862 -987830.968)</td>\n",
       "    </tr>\n",
       "    <tr>\n",
       "      <th>3</th>\n",
       "      <td>851</td>\n",
       "      <td>POINT (-3018.378 -38830.121)</td>\n",
       "    </tr>\n",
       "    <tr>\n",
       "      <th>4</th>\n",
       "      <td>5503</td>\n",
       "      <td>POINT (-12081.036 -44369.499)</td>\n",
       "    </tr>\n",
       "    <tr>\n",
       "      <th>5</th>\n",
       "      <td>5415</td>\n",
       "      <td>POINT (235765.862 -987830.968)</td>\n",
       "    </tr>\n",
       "    <tr>\n",
       "      <th>6</th>\n",
       "      <td>2340</td>\n",
       "      <td>POINT (-64710.528 -197124.147)</td>\n",
       "    </tr>\n",
       "  </tbody>\n",
       "</table>\n",
       "</div>"
      ],
      "text/plain": [
       "   SOURCE_ID                        geometry\n",
       "0       5502  POINT (-39683.872 -140803.472)\n",
       "1        427   POINT (-3111.277 -321671.428)\n",
       "2       5445  POINT (235765.862 -987830.968)\n",
       "3        851    POINT (-3018.378 -38830.121)\n",
       "4       5503   POINT (-12081.036 -44369.499)\n",
       "5       5415  POINT (235765.862 -987830.968)\n",
       "6       2340  POINT (-64710.528 -197124.147)"
      ]
     },
     "execution_count": 180,
     "metadata": {},
     "output_type": "execute_result"
    }
   ],
   "source": [
    "intokyo2"
   ]
  },
  {
   "cell_type": "markdown",
   "id": "3d33358d-2799-4742-b5fe-8447f9a5f0d9",
   "metadata": {},
   "source": [
    "ポイント間の距離を算出(km)  \n",
    "例えば本州が震源地の2点(5503, 851)間は10.6km"
   ]
  },
  {
   "cell_type": "code",
   "execution_count": 242,
   "id": "f9347811-dc9d-4e63-9677-47a6837e32a5",
   "metadata": {},
   "outputs": [
    {
     "data": {
      "text/html": [
       "<div>\n",
       "<style scoped>\n",
       "    .dataframe tbody tr th:only-of-type {\n",
       "        vertical-align: middle;\n",
       "    }\n",
       "\n",
       "    .dataframe tbody tr th {\n",
       "        vertical-align: top;\n",
       "    }\n",
       "\n",
       "    .dataframe thead th {\n",
       "        text-align: right;\n",
       "    }\n",
       "</style>\n",
       "<table border=\"1\" class=\"dataframe\">\n",
       "  <thead>\n",
       "    <tr style=\"text-align: right;\">\n",
       "      <th></th>\n",
       "      <th>5502</th>\n",
       "      <th>427</th>\n",
       "      <th>5445</th>\n",
       "      <th>851</th>\n",
       "      <th>5503</th>\n",
       "      <th>5415</th>\n",
       "      <th>2340</th>\n",
       "    </tr>\n",
       "  </thead>\n",
       "  <tbody>\n",
       "    <tr>\n",
       "      <th>5502</th>\n",
       "      <td>0.000000</td>\n",
       "      <td>0.000000</td>\n",
       "      <td>0.000000</td>\n",
       "      <td>0.000000</td>\n",
       "      <td>0.000000</td>\n",
       "      <td>0.000000</td>\n",
       "      <td>0.0</td>\n",
       "    </tr>\n",
       "    <tr>\n",
       "      <th>427</th>\n",
       "      <td>184.528514</td>\n",
       "      <td>0.000000</td>\n",
       "      <td>0.000000</td>\n",
       "      <td>0.000000</td>\n",
       "      <td>0.000000</td>\n",
       "      <td>0.000000</td>\n",
       "      <td>0.0</td>\n",
       "    </tr>\n",
       "    <tr>\n",
       "      <th>5445</th>\n",
       "      <td>890.689697</td>\n",
       "      <td>707.694016</td>\n",
       "      <td>0.000000</td>\n",
       "      <td>0.000000</td>\n",
       "      <td>0.000000</td>\n",
       "      <td>0.000000</td>\n",
       "      <td>0.0</td>\n",
       "    </tr>\n",
       "    <tr>\n",
       "      <th>851</th>\n",
       "      <td>108.364766</td>\n",
       "      <td>282.841322</td>\n",
       "      <td>978.580871</td>\n",
       "      <td>0.000000</td>\n",
       "      <td>0.000000</td>\n",
       "      <td>0.000000</td>\n",
       "      <td>0.0</td>\n",
       "    </tr>\n",
       "    <tr>\n",
       "      <th>5503</th>\n",
       "      <td>100.306668</td>\n",
       "      <td>277.446962</td>\n",
       "      <td>975.473029</td>\n",
       "      <td>10.621509</td>\n",
       "      <td>0.000000</td>\n",
       "      <td>0.000000</td>\n",
       "      <td>0.0</td>\n",
       "    </tr>\n",
       "    <tr>\n",
       "      <th>5415</th>\n",
       "      <td>890.689697</td>\n",
       "      <td>707.694016</td>\n",
       "      <td>0.000000</td>\n",
       "      <td>978.580871</td>\n",
       "      <td>975.473029</td>\n",
       "      <td>0.000000</td>\n",
       "      <td>0.0</td>\n",
       "    </tr>\n",
       "    <tr>\n",
       "      <th>2340</th>\n",
       "      <td>61.630771</td>\n",
       "      <td>138.947806</td>\n",
       "      <td>845.874304</td>\n",
       "      <td>169.890906</td>\n",
       "      <td>161.566847</td>\n",
       "      <td>845.874304</td>\n",
       "      <td>0.0</td>\n",
       "    </tr>\n",
       "  </tbody>\n",
       "</table>\n",
       "</div>"
      ],
      "text/plain": [
       "            5502        427         5445        851         5503        5415  \\\n",
       "5502    0.000000    0.000000    0.000000    0.000000    0.000000    0.000000   \n",
       "427   184.528514    0.000000    0.000000    0.000000    0.000000    0.000000   \n",
       "5445  890.689697  707.694016    0.000000    0.000000    0.000000    0.000000   \n",
       "851   108.364766  282.841322  978.580871    0.000000    0.000000    0.000000   \n",
       "5503  100.306668  277.446962  975.473029   10.621509    0.000000    0.000000   \n",
       "5415  890.689697  707.694016    0.000000  978.580871  975.473029    0.000000   \n",
       "2340   61.630771  138.947806  845.874304  169.890906  161.566847  845.874304   \n",
       "\n",
       "      2340  \n",
       "5502   0.0  \n",
       "427    0.0  \n",
       "5445   0.0  \n",
       "851    0.0  \n",
       "5503   0.0  \n",
       "5415   0.0  \n",
       "2340   0.0  "
      ]
     },
     "execution_count": 242,
     "metadata": {},
     "output_type": "execute_result"
    }
   ],
   "source": [
    "dists = (pd\n",
    "         .DataFrame(np.tril([intokyo2.distance(intokyo2.iat[i, 1]) / 1000 for i in range(len(intokyo2))], k=-1))\n",
    "         .rename(index=intokyo2.SOURCE_ID, columns=intokyo2.SOURCE_ID))\n",
    "dists"
   ]
  },
  {
   "cell_type": "markdown",
   "id": "e3b5ae5a-33ea-4f8c-bf83-e5bac0c05c83",
   "metadata": {},
   "source": [
    "### geopyを使う方法"
   ]
  },
  {
   "cell_type": "code",
   "execution_count": 199,
   "id": "6323aef6-95e9-4c55-b5e1-7e3b41b2dca6",
   "metadata": {},
   "outputs": [],
   "source": [
    "from geopy.distance import geodesic"
   ]
  },
  {
   "cell_type": "code",
   "execution_count": 213,
   "id": "d0a8bc08-93d6-4630-9af4-d336a8a9f90c",
   "metadata": {},
   "outputs": [],
   "source": [
    "# Shapely.Pointsオブジェクトを(lat, lon)のタプルに変換\n",
    "points = intokyo.geometry\n",
    "*points, = zip(points.y, points.x)"
   ]
  },
  {
   "cell_type": "code",
   "execution_count": 243,
   "id": "eefe7ac0-68a6-477d-8b9f-2edf73685841",
   "metadata": {},
   "outputs": [],
   "source": [
    "cross_dist = []\n",
    "for i in range(len(points)):\n",
    "    cross_dist.append([geodesic(points[i], points[j]).km for j in range(len(points))])\n",
    "dists2 = pd.DataFrame(np.tril(cross_dist, k=-1)).rename(index=intokyo2.SOURCE_ID, columns=intokyo2.SOURCE_ID)"
   ]
  },
  {
   "cell_type": "code",
   "execution_count": 244,
   "id": "d5568c63-e56a-4de8-87d8-ae8310b8d061",
   "metadata": {},
   "outputs": [
    {
     "data": {
      "text/html": [
       "<div>\n",
       "<style scoped>\n",
       "    .dataframe tbody tr th:only-of-type {\n",
       "        vertical-align: middle;\n",
       "    }\n",
       "\n",
       "    .dataframe tbody tr th {\n",
       "        vertical-align: top;\n",
       "    }\n",
       "\n",
       "    .dataframe thead th {\n",
       "        text-align: right;\n",
       "    }\n",
       "</style>\n",
       "<table border=\"1\" class=\"dataframe\">\n",
       "  <thead>\n",
       "    <tr style=\"text-align: right;\">\n",
       "      <th></th>\n",
       "      <th>5502</th>\n",
       "      <th>427</th>\n",
       "      <th>5445</th>\n",
       "      <th>851</th>\n",
       "      <th>5503</th>\n",
       "      <th>5415</th>\n",
       "      <th>2340</th>\n",
       "    </tr>\n",
       "  </thead>\n",
       "  <tbody>\n",
       "    <tr>\n",
       "      <th>5502</th>\n",
       "      <td>0.000000</td>\n",
       "      <td>0.000000</td>\n",
       "      <td>0.000000</td>\n",
       "      <td>0.000000</td>\n",
       "      <td>0.000000</td>\n",
       "      <td>0.000000</td>\n",
       "      <td>0.0</td>\n",
       "    </tr>\n",
       "    <tr>\n",
       "      <th>427</th>\n",
       "      <td>184.545673</td>\n",
       "      <td>0.000000</td>\n",
       "      <td>0.000000</td>\n",
       "      <td>0.000000</td>\n",
       "      <td>0.000000</td>\n",
       "      <td>0.000000</td>\n",
       "      <td>0.0</td>\n",
       "    </tr>\n",
       "    <tr>\n",
       "      <th>5445</th>\n",
       "      <td>890.603531</td>\n",
       "      <td>707.605037</td>\n",
       "      <td>0.000000</td>\n",
       "      <td>0.000000</td>\n",
       "      <td>0.000000</td>\n",
       "      <td>0.000000</td>\n",
       "      <td>0.0</td>\n",
       "    </tr>\n",
       "    <tr>\n",
       "      <th>851</th>\n",
       "      <td>108.374846</td>\n",
       "      <td>282.869576</td>\n",
       "      <td>978.457611</td>\n",
       "      <td>0.000000</td>\n",
       "      <td>0.000000</td>\n",
       "      <td>0.000000</td>\n",
       "      <td>0.0</td>\n",
       "    </tr>\n",
       "    <tr>\n",
       "      <th>5503</th>\n",
       "      <td>100.315794</td>\n",
       "      <td>277.474489</td>\n",
       "      <td>975.358201</td>\n",
       "      <td>10.622563</td>\n",
       "      <td>0.000000</td>\n",
       "      <td>0.000000</td>\n",
       "      <td>0.0</td>\n",
       "    </tr>\n",
       "    <tr>\n",
       "      <th>5415</th>\n",
       "      <td>890.603531</td>\n",
       "      <td>707.605037</td>\n",
       "      <td>0.000000</td>\n",
       "      <td>978.457611</td>\n",
       "      <td>975.358201</td>\n",
       "      <td>0.000000</td>\n",
       "      <td>0.0</td>\n",
       "    </tr>\n",
       "    <tr>\n",
       "      <th>2340</th>\n",
       "      <td>61.634826</td>\n",
       "      <td>138.959191</td>\n",
       "      <td>845.803952</td>\n",
       "      <td>169.904831</td>\n",
       "      <td>161.579610</td>\n",
       "      <td>845.803952</td>\n",
       "      <td>0.0</td>\n",
       "    </tr>\n",
       "  </tbody>\n",
       "</table>\n",
       "</div>"
      ],
      "text/plain": [
       "            5502        427         5445        851         5503        5415  \\\n",
       "5502    0.000000    0.000000    0.000000    0.000000    0.000000    0.000000   \n",
       "427   184.545673    0.000000    0.000000    0.000000    0.000000    0.000000   \n",
       "5445  890.603531  707.605037    0.000000    0.000000    0.000000    0.000000   \n",
       "851   108.374846  282.869576  978.457611    0.000000    0.000000    0.000000   \n",
       "5503  100.315794  277.474489  975.358201   10.622563    0.000000    0.000000   \n",
       "5415  890.603531  707.605037    0.000000  978.457611  975.358201    0.000000   \n",
       "2340   61.634826  138.959191  845.803952  169.904831  161.579610  845.803952   \n",
       "\n",
       "      2340  \n",
       "5502   0.0  \n",
       "427    0.0  \n",
       "5445   0.0  \n",
       "851    0.0  \n",
       "5503   0.0  \n",
       "5415   0.0  \n",
       "2340   0.0  "
      ]
     },
     "execution_count": 244,
     "metadata": {},
     "output_type": "execute_result"
    }
   ],
   "source": [
    "dists2"
   ]
  },
  {
   "cell_type": "markdown",
   "id": "ae62e386-d86c-47fb-af2e-ba4f09b7ae8b",
   "metadata": {},
   "source": [
    "結果はほぼ同じだが、計算方法の違いによって0.01%程度の差が出る。(1kmあたり0.1m)"
   ]
  },
  {
   "cell_type": "code",
   "execution_count": 261,
   "id": "ced07ff1-48cc-4fd6-9c15-da79ead2793d",
   "metadata": {},
   "outputs": [
    {
     "name": "stderr",
     "output_type": "stream",
     "text": [
      "/tmp/ipykernel_315/813916526.py:2: RuntimeWarning:\n",
      "\n",
      "invalid value encountered in true_divide\n",
      "\n"
     ]
    },
    {
     "data": {
      "text/plain": [
       "9.913180578755176e-05"
      ]
     },
     "execution_count": 261,
     "metadata": {},
     "output_type": "execute_result"
    }
   ],
   "source": [
    "# 相対誤差の平均\n",
    "diff = np.abs(dists.to_numpy() - dists2.to_numpy()) / dists.to_numpy()\n",
    "diff = diff.flatten()\n",
    "diff = diff[~np.isnan(diff)]\n",
    "\n",
    "diff.mean()"
   ]
  },
  {
   "cell_type": "code",
   "execution_count": null,
   "id": "1213139c-64f6-4669-a86a-54b0197bcbf6",
   "metadata": {},
   "outputs": [],
   "source": []
  }
 ],
 "metadata": {
  "kernelspec": {
   "display_name": "Python 3 (ipykernel)",
   "language": "python",
   "name": "python3"
  },
  "language_info": {
   "codemirror_mode": {
    "name": "ipython",
    "version": 3
   },
   "file_extension": ".py",
   "mimetype": "text/x-python",
   "name": "python",
   "nbconvert_exporter": "python",
   "pygments_lexer": "ipython3",
   "version": "3.8.12"
  },
  "toc-autonumbering": true
 },
 "nbformat": 4,
 "nbformat_minor": 5
}
