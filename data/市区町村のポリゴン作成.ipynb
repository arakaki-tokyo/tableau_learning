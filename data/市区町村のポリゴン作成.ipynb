{
 "cells": [
  {
   "cell_type": "markdown",
   "id": "591b0c13-e64b-4ed2-af96-91f9cb501350",
   "metadata": {},
   "source": [
    "# 市区町村のポリゴン作成\n",
    "\n",
    "使用するデータ：[国土数値情報 \\| 行政区域データ](https://nlftp.mlit.go.jp/ksj/gml/datalist/KsjTmplt-N03-v3_1.html)\n",
    "\n",
    "上記全国版のオリジナルのファイルを用いることもできるが、以下のような問題がある。\n",
    "- ファイルサイズが大きい(1GB以上)\n",
    "- 一つの自治体に対して複数のフィールドを持つため、結合などの処理が面倒\n",
    "\n",
    "上記問題を解決するため、geometryを六角形メッシュ状に簡略化し、各自治体毎に1行にまとめたGISファイルを作成した。\n",
    "\n",
    "六角形メッシュとすることで相当程度拡大しても視認性に違和感なく、ファイルサイズを15MB程度に縮小できた。\n"
   ]
  },
  {
   "cell_type": "markdown",
   "id": "2337f422-e67a-485a-ad26-6ca6c86e4e85",
   "metadata": {},
   "source": [
    "## 行政区域データのダウンロード\n",
    "\n",
    "全国版のデータもあるが、処理する上で読み込みに時間が掛かるため、都道府県毎にデータを取得する。"
   ]
  },
  {
   "cell_type": "code",
   "execution_count": null,
   "id": "4b04d77d-7428-43d0-a828-202f7fb7d43c",
   "metadata": {},
   "outputs": [],
   "source": [
    "RAW_PATH = 'raw/kukaku'"
   ]
  },
  {
   "cell_type": "code",
   "execution_count": null,
   "id": "41fb16d0-7798-4ecc-af41-11e359174897",
   "metadata": {},
   "outputs": [],
   "source": [
    "import urllib.request as rq\n",
    "import os\n",
    "\n",
    "def download_data(n):\n",
    "    name = f'{n:02}'\n",
    "    \n",
    "    url = f'https://nlftp.mlit.go.jp/ksj/gml/data/N03/N03-2022/N03-20220101_{name}_GML.zip'\n",
    "    \n",
    "    save_path = f'{RAW_PATH}/{name}.zip'\n",
    "    \n",
    "    if os.path.exists(save_path): return\n",
    "    \n",
    "    print(f'downloading {name}... ', end='')\n",
    "    with open(save_path, \"wb\") as f:\n",
    "        f.write(rq.urlopen(url).read())\n",
    "        \n",
    "    print(\"done!!\")"
   ]
  },
  {
   "cell_type": "code",
   "execution_count": null,
   "id": "e400b175-05e0-4494-8228-ea19bbeef911",
   "metadata": {
    "tags": []
   },
   "outputs": [],
   "source": [
    "for i in range(1, 48):\n",
    "    download_data(i)"
   ]
  },
  {
   "cell_type": "markdown",
   "id": "6f8dc7e2-385a-4eda-ad72-7ff8e25f3c91",
   "metadata": {},
   "source": [
    "## データ整形\n"
   ]
  },
  {
   "cell_type": "code",
   "execution_count": null,
   "id": "292df7fa-ec43-45d7-908b-62eafdb2985d",
   "metadata": {},
   "outputs": [],
   "source": [
    "import pandas as pd\n",
    "import geopandas as gpd\n",
    "import plotly.express as px\n",
    "import zipfile as zf\n",
    "import matplotlib.pyplot as plt\n",
    "import h3pandas"
   ]
  },
  {
   "cell_type": "code",
   "execution_count": null,
   "id": "158f6b1c-69f5-42fd-8eee-0d0fd787e850",
   "metadata": {},
   "outputs": [],
   "source": [
    "def preproc(n, resolution):\n",
    "    \n",
    "    df = gpd.read_file(f'{RAW_PATH}/{n:02}.zip')\n",
    "    df = df.drop(index=df[df['N03_007'].isna()].index)\n",
    "\n",
    "    df[\"area\"] = df.area\n",
    "    new = []\n",
    "    \n",
    "    for code in df[\"N03_007\"].unique():\n",
    "        new.append(\n",
    "            df[df[\"N03_007\"] == code]\n",
    "            .sort_values(by=\"area\").tail(3)\n",
    "            .h3.polyfill_resample(resolution)\n",
    "            .dissolve()\n",
    "        )\n",
    "        \n",
    "    return pd.concat(new)"
   ]
  },
  {
   "cell_type": "markdown",
   "id": "9535f4b6-c5b0-4c93-9599-02552622e1d6",
   "metadata": {},
   "source": [
    "処理の実施。5分ほど掛かる。\n",
    "\n",
    "ポリゴンの粒度を細かくしたい場合は`preproc`関数に渡す第2引数を`9`や`10`などにするとよい。(その分処理時間は倍増する)"
   ]
  },
  {
   "cell_type": "code",
   "execution_count": null,
   "id": "c59e28d2-d1c8-48da-8745-76649d655170",
   "metadata": {
    "tags": []
   },
   "outputs": [],
   "source": [
    "jp = []\n",
    "\n",
    "for i in range(1, 48):\n",
    "    jp.append(preproc(i, 8))\n",
    "\n",
    "jpdf = pd.concat(jp).drop(columns=[\"index\", \"N03_002\", \"N03_003\", \"area\"]).reset_index(drop=True)\n",
    "jpdf.rename(columns={\"N03_001\": \"都道府県名\", \"N03_004\": \"市区町村名\", \"N03_007\": \"code\"}, inplace=True)"
   ]
  },
  {
   "cell_type": "markdown",
   "id": "b982ca99-ab21-4aed-8219-8ff6119621b2",
   "metadata": {},
   "source": [
    "## ファイル出力\n",
    "\n",
    "GISファイルとして出力する。  \n",
    "ここでは`geojson`ファイルにしているが、シェープファイルにすることもできる。"
   ]
  },
  {
   "cell_type": "markdown",
   "id": "2b8b962f-8ef2-4621-9905-7eff5510cb93",
   "metadata": {},
   "source": [
    "### 団体コードとポリゴンのみ"
   ]
  },
  {
   "cell_type": "code",
   "execution_count": null,
   "id": "017e01dd-6f2c-4aa6-b2ef-d4cb438c063c",
   "metadata": {},
   "outputs": [],
   "source": [
    "jpdf.loc[:, [\"code\", \"geometry\"]].to_file(\"sikuchoson.json\", driver='GeoJSON')"
   ]
  },
  {
   "cell_type": "markdown",
   "id": "2e0697b8-c5b9-4544-bf3c-ad2b470ac62a",
   "metadata": {},
   "source": [
    "### 団体コードとポリゴンと市区町村名"
   ]
  },
  {
   "cell_type": "code",
   "execution_count": null,
   "id": "a446cfc4-9a84-4c64-8481-d012fef3f4ec",
   "metadata": {},
   "outputs": [],
   "source": [
    "jpdf.loc[:, [\"市区町村名\", \"code\", \"geometry\"]].to_file(\"sikuchoson_name.json\", driver='GeoJSON')"
   ]
  },
  {
   "cell_type": "markdown",
   "id": "b16ffdb1-736c-428b-98aa-9c599c441930",
   "metadata": {},
   "source": [
    "### 団体コードとポリゴンと市区町村名と都道府県名"
   ]
  },
  {
   "cell_type": "code",
   "execution_count": null,
   "id": "6b452ebd-8e50-4249-a36f-e32813ac7a40",
   "metadata": {},
   "outputs": [],
   "source": [
    "jpdf.loc[:, [\"都道府県名\", \"市区町村名\", \"code\", \"geometry\"]].to_file(\"sikuchoson_name_pref.json\", driver='GeoJSON')"
   ]
  }
 ],
 "metadata": {
  "kernelspec": {
   "display_name": "Python 3 (ipykernel)",
   "language": "python",
   "name": "python3"
  },
  "language_info": {
   "codemirror_mode": {
    "name": "ipython",
    "version": 3
   },
   "file_extension": ".py",
   "mimetype": "text/x-python",
   "name": "python",
   "nbconvert_exporter": "python",
   "pygments_lexer": "ipython3",
   "version": "3.8.12"
  }
 },
 "nbformat": 4,
 "nbformat_minor": 5
}
