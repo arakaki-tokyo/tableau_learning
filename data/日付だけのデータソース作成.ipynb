{
 "cells": [
  {
   "cell_type": "markdown",
   "id": "f1eae6e5-40c2-494d-8b9b-b0a2c82cae28",
   "metadata": {},
   "source": [
    "# 日付だけのデータソース作成\n",
    "\n",
    "Tableauでカレンダー形式のVizを作成する際、カレンダーが虫食い状態となる回避策に使用するデータソースを作成する。  \n",
    "参照：[カレンダーの作成方法 \\| tableau\\_learning](https://arakaki-tokyo.github.io/tableau_learning/%E3%82%AB%E3%83%AC%E3%83%B3%E3%83%80%E3%83%BC%E3%81%AE%E4%BD%9C%E6%88%90%E6%96%B9%E6%B3%95/#%E3%82%AB%E3%83%AC%E3%83%B3%E3%83%80%E3%83%BC%E3%81%8C%E8%99%AB%E9%A3%9F%E3%81%84%E7%8A%B6%E6%85%8B%E3%81%A8%E3%81%AA%E3%82%8B%E5%9B%9E%E9%81%BF%E7%AD%96)"
   ]
  },
  {
   "cell_type": "code",
   "execution_count": 9,
   "id": "227ca5ed-0eb9-44a2-b688-2b034a07c1e5",
   "metadata": {},
   "outputs": [],
   "source": [
    "from datetime import date, timedelta\n",
    "import pandas as pd"
   ]
  },
  {
   "cell_type": "code",
   "execution_count": 10,
   "id": "c3b6ce7e-56c7-429a-80ed-0f6270cf3945",
   "metadata": {},
   "outputs": [],
   "source": [
    "start = date(1900, 1, 1)\n",
    "end = date(2100, 12, 31)"
   ]
  },
  {
   "cell_type": "code",
   "execution_count": 11,
   "id": "d1ce6421-bf2e-4035-b083-ec1caffb360d",
   "metadata": {},
   "outputs": [],
   "source": [
    "l = []\n",
    "while start <= end:\n",
    "    l.append(start)\n",
    "    start += datetime.timedelta(days=1)"
   ]
  },
  {
   "cell_type": "code",
   "execution_count": 12,
   "id": "b119c80d-95d9-43e0-85fa-503302a8fcb0",
   "metadata": {},
   "outputs": [],
   "source": [
    "df = pd.DataFrame({\"date\":l})"
   ]
  },
  {
   "cell_type": "markdown",
   "id": "4f19dc06-e592-48ac-8237-86c69857d503",
   "metadata": {},
   "source": [
    "作成したDFの確認"
   ]
  },
  {
   "cell_type": "code",
   "execution_count": 13,
   "id": "fe84af1d-d20d-482e-b765-eb7be804d237",
   "metadata": {},
   "outputs": [
    {
     "data": {
      "text/html": [
       "<div>\n",
       "<style scoped>\n",
       "    .dataframe tbody tr th:only-of-type {\n",
       "        vertical-align: middle;\n",
       "    }\n",
       "\n",
       "    .dataframe tbody tr th {\n",
       "        vertical-align: top;\n",
       "    }\n",
       "\n",
       "    .dataframe thead th {\n",
       "        text-align: right;\n",
       "    }\n",
       "</style>\n",
       "<table border=\"1\" class=\"dataframe\">\n",
       "  <thead>\n",
       "    <tr style=\"text-align: right;\">\n",
       "      <th></th>\n",
       "      <th>date</th>\n",
       "    </tr>\n",
       "  </thead>\n",
       "  <tbody>\n",
       "    <tr>\n",
       "      <th>0</th>\n",
       "      <td>1900-01-01</td>\n",
       "    </tr>\n",
       "    <tr>\n",
       "      <th>1</th>\n",
       "      <td>1900-01-02</td>\n",
       "    </tr>\n",
       "    <tr>\n",
       "      <th>2</th>\n",
       "      <td>1900-01-03</td>\n",
       "    </tr>\n",
       "    <tr>\n",
       "      <th>3</th>\n",
       "      <td>1900-01-04</td>\n",
       "    </tr>\n",
       "    <tr>\n",
       "      <th>4</th>\n",
       "      <td>1900-01-05</td>\n",
       "    </tr>\n",
       "    <tr>\n",
       "      <th>...</th>\n",
       "      <td>...</td>\n",
       "    </tr>\n",
       "    <tr>\n",
       "      <th>73409</th>\n",
       "      <td>2100-12-27</td>\n",
       "    </tr>\n",
       "    <tr>\n",
       "      <th>73410</th>\n",
       "      <td>2100-12-28</td>\n",
       "    </tr>\n",
       "    <tr>\n",
       "      <th>73411</th>\n",
       "      <td>2100-12-29</td>\n",
       "    </tr>\n",
       "    <tr>\n",
       "      <th>73412</th>\n",
       "      <td>2100-12-30</td>\n",
       "    </tr>\n",
       "    <tr>\n",
       "      <th>73413</th>\n",
       "      <td>2100-12-31</td>\n",
       "    </tr>\n",
       "  </tbody>\n",
       "</table>\n",
       "<p>73414 rows × 1 columns</p>\n",
       "</div>"
      ],
      "text/plain": [
       "             date\n",
       "0      1900-01-01\n",
       "1      1900-01-02\n",
       "2      1900-01-03\n",
       "3      1900-01-04\n",
       "4      1900-01-05\n",
       "...           ...\n",
       "73409  2100-12-27\n",
       "73410  2100-12-28\n",
       "73411  2100-12-29\n",
       "73412  2100-12-30\n",
       "73413  2100-12-31\n",
       "\n",
       "[73414 rows x 1 columns]"
      ]
     },
     "execution_count": 13,
     "metadata": {},
     "output_type": "execute_result"
    }
   ],
   "source": [
    "df"
   ]
  },
  {
   "cell_type": "markdown",
   "id": "3708234e-e6f0-4f93-9d28-0e833eefc9d6",
   "metadata": {},
   "source": [
    "DFをCSVとして出力"
   ]
  },
  {
   "cell_type": "code",
   "execution_count": 14,
   "id": "5bb15895-9eb0-4912-a92d-742dca347c87",
   "metadata": {},
   "outputs": [],
   "source": [
    "df.to_csv(\"date.csv\", index=False)"
   ]
  }
 ],
 "metadata": {
  "kernelspec": {
   "display_name": "Python 3 (ipykernel)",
   "language": "python",
   "name": "python3"
  },
  "language_info": {
   "codemirror_mode": {
    "name": "ipython",
    "version": 3
   },
   "file_extension": ".py",
   "mimetype": "text/x-python",
   "name": "python",
   "nbconvert_exporter": "python",
   "pygments_lexer": "ipython3",
   "version": "3.8.12"
  }
 },
 "nbformat": 4,
 "nbformat_minor": 5
}
